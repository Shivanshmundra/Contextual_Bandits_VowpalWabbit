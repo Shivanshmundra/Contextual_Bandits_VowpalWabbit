{
  "nbformat": 4,
  "nbformat_minor": 0,
  "metadata": {
    "colab": {
      "name": "Custom_VW_CB.ipynb",
      "provenance": []
    },
    "kernelspec": {
      "name": "python3",
      "display_name": "Python 3"
    }
  },
  "cells": [
    {
      "cell_type": "code",
      "metadata": {
        "id": "mNJ4K1bVbVLp",
        "colab_type": "code",
        "outputId": "ef937ed2-9bed-4612-d239-354b6f022ab7",
        "colab": {
          "base_uri": "https://localhost:8080/",
          "height": 222
        }
      },
      "source": [
        "!pip install git+https://github.com/VowpalWabbit/vowpal_wabbit.git#egg=vowpalwabbit\n"
      ],
      "execution_count": 0,
      "outputs": [
        {
          "output_type": "stream",
          "text": [
            "Collecting vowpalwabbit\n",
            "  Cloning https://github.com/VowpalWabbit/vowpal_wabbit.git to /tmp/pip-install-rccyprls/vowpalwabbit\n",
            "  Running command git clone -q https://github.com/VowpalWabbit/vowpal_wabbit.git /tmp/pip-install-rccyprls/vowpalwabbit\n",
            "  Running command git submodule update --init --recursive -q\n",
            "Building wheels for collected packages: vowpalwabbit\n",
            "  Building wheel for vowpalwabbit (setup.py) ... \u001b[?25l\u001b[?25hdone\n",
            "  Created wheel for vowpalwabbit: filename=vowpalwabbit-8.8.0-cp36-cp36m-linux_x86_64.whl size=1729114 sha256=a1aada435cf029e536a26e85260d4d88448a0ebba5814c866e14e337be0d5c25\n",
            "  Stored in directory: /tmp/pip-ephem-wheel-cache-23b1p0ce/wheels/a7/f6/7b/444396d70448679da7b0a8bbb068ea3b79d4b2aba9e5fae418\n",
            "Successfully built vowpalwabbit\n",
            "Installing collected packages: vowpalwabbit\n",
            "Successfully installed vowpalwabbit-8.8.0\n"
          ],
          "name": "stdout"
        }
      ]
    },
    {
      "cell_type": "code",
      "metadata": {
        "id": "miFmvkSISIbc",
        "colab_type": "code",
        "colab": {}
      },
      "source": [
        "import matplotlib.pyplot as plt\n"
      ],
      "execution_count": 0,
      "outputs": []
    },
    {
      "cell_type": "code",
      "metadata": {
        "id": "SxmcGUatcFqC",
        "colab_type": "code",
        "colab": {}
      },
      "source": [
        "import pandas as pd\n",
        "import sklearn as sk\n",
        "from vowpalwabbit import pyvw\n",
        "import numpy as np\n",
        "from sklearn.preprocessing import MultiLabelBinarizer\n",
        "import re\n",
        "import random"
      ],
      "execution_count": 0,
      "outputs": []
    },
    {
      "cell_type": "code",
      "metadata": {
        "id": "-EwN15gUdR7Q",
        "colab_type": "code",
        "outputId": "2d264cbe-78bc-4940-ab6a-50474f7de04f",
        "colab": {
          "base_uri": "https://localhost:8080/",
          "height": 202
        }
      },
      "source": [
        "!wget https://gist.githubusercontent.com/netj/8836201/raw/6f9306ad21398ea43cba4f7d537619d0e07d5ae3/iris.csv"
      ],
      "execution_count": 0,
      "outputs": [
        {
          "output_type": "stream",
          "text": [
            "--2020-02-26 16:17:26--  https://gist.githubusercontent.com/netj/8836201/raw/6f9306ad21398ea43cba4f7d537619d0e07d5ae3/iris.csv\n",
            "Resolving gist.githubusercontent.com (gist.githubusercontent.com)... 151.101.0.133, 151.101.64.133, 151.101.128.133, ...\n",
            "Connecting to gist.githubusercontent.com (gist.githubusercontent.com)|151.101.0.133|:443... connected.\n",
            "HTTP request sent, awaiting response... 200 OK\n",
            "Length: 3975 (3.9K) [text/plain]\n",
            "Saving to: ‘iris.csv’\n",
            "\n",
            "\riris.csv              0%[                    ]       0  --.-KB/s               \riris.csv            100%[===================>]   3.88K  --.-KB/s    in 0s      \n",
            "\n",
            "2020-02-26 16:17:26 (73.0 MB/s) - ‘iris.csv’ saved [3975/3975]\n",
            "\n"
          ],
          "name": "stdout"
        }
      ]
    },
    {
      "cell_type": "code",
      "metadata": {
        "id": "Z_JIiK74dp_j",
        "colab_type": "code",
        "colab": {}
      },
      "source": [
        "df = pd.read_csv('iris.csv')"
      ],
      "execution_count": 0,
      "outputs": []
    },
    {
      "cell_type": "code",
      "metadata": {
        "id": "S3bULxcvd1s5",
        "colab_type": "code",
        "outputId": "63ac363e-4161-4eb4-d3c1-b53464ce64b9",
        "colab": {
          "base_uri": "https://localhost:8080/",
          "height": 195
        }
      },
      "source": [
        "df.head()"
      ],
      "execution_count": 0,
      "outputs": [
        {
          "output_type": "execute_result",
          "data": {
            "text/html": [
              "<div>\n",
              "<style scoped>\n",
              "    .dataframe tbody tr th:only-of-type {\n",
              "        vertical-align: middle;\n",
              "    }\n",
              "\n",
              "    .dataframe tbody tr th {\n",
              "        vertical-align: top;\n",
              "    }\n",
              "\n",
              "    .dataframe thead th {\n",
              "        text-align: right;\n",
              "    }\n",
              "</style>\n",
              "<table border=\"1\" class=\"dataframe\">\n",
              "  <thead>\n",
              "    <tr style=\"text-align: right;\">\n",
              "      <th></th>\n",
              "      <th>sepal.length</th>\n",
              "      <th>sepal.width</th>\n",
              "      <th>petal.length</th>\n",
              "      <th>petal.width</th>\n",
              "      <th>variety</th>\n",
              "    </tr>\n",
              "  </thead>\n",
              "  <tbody>\n",
              "    <tr>\n",
              "      <th>0</th>\n",
              "      <td>5.1</td>\n",
              "      <td>3.5</td>\n",
              "      <td>1.4</td>\n",
              "      <td>0.2</td>\n",
              "      <td>Setosa</td>\n",
              "    </tr>\n",
              "    <tr>\n",
              "      <th>1</th>\n",
              "      <td>4.9</td>\n",
              "      <td>3.0</td>\n",
              "      <td>1.4</td>\n",
              "      <td>0.2</td>\n",
              "      <td>Setosa</td>\n",
              "    </tr>\n",
              "    <tr>\n",
              "      <th>2</th>\n",
              "      <td>4.7</td>\n",
              "      <td>3.2</td>\n",
              "      <td>1.3</td>\n",
              "      <td>0.2</td>\n",
              "      <td>Setosa</td>\n",
              "    </tr>\n",
              "    <tr>\n",
              "      <th>3</th>\n",
              "      <td>4.6</td>\n",
              "      <td>3.1</td>\n",
              "      <td>1.5</td>\n",
              "      <td>0.2</td>\n",
              "      <td>Setosa</td>\n",
              "    </tr>\n",
              "    <tr>\n",
              "      <th>4</th>\n",
              "      <td>5.0</td>\n",
              "      <td>3.6</td>\n",
              "      <td>1.4</td>\n",
              "      <td>0.2</td>\n",
              "      <td>Setosa</td>\n",
              "    </tr>\n",
              "  </tbody>\n",
              "</table>\n",
              "</div>"
            ],
            "text/plain": [
              "   sepal.length  sepal.width  petal.length  petal.width variety\n",
              "0           5.1          3.5           1.4          0.2  Setosa\n",
              "1           4.9          3.0           1.4          0.2  Setosa\n",
              "2           4.7          3.2           1.3          0.2  Setosa\n",
              "3           4.6          3.1           1.5          0.2  Setosa\n",
              "4           5.0          3.6           1.4          0.2  Setosa"
            ]
          },
          "metadata": {
            "tags": []
          },
          "execution_count": 5
        }
      ]
    },
    {
      "cell_type": "code",
      "metadata": {
        "id": "PrJWGhDaeuZT",
        "colab_type": "code",
        "colab": {}
      },
      "source": [
        "df = df.rename(columns={\"sepal.length\": \"SepalLength\", \"sepal.width\": \"SepalWidth\", \"petal.length\": \"PetalLength\", \"petal.width\": \"PetalWidth\"})"
      ],
      "execution_count": 0,
      "outputs": []
    },
    {
      "cell_type": "code",
      "metadata": {
        "id": "EgzPq9lHd4kf",
        "colab_type": "code",
        "outputId": "de6da561-4c9b-4f3e-902a-bd8751f04189",
        "colab": {
          "base_uri": "https://localhost:8080/",
          "height": 34
        }
      },
      "source": [
        "tags = pd.unique(df['variety'])\n",
        "tags"
      ],
      "execution_count": 0,
      "outputs": [
        {
          "output_type": "execute_result",
          "data": {
            "text/plain": [
              "array(['Setosa', 'Versicolor', 'Virginica'], dtype=object)"
            ]
          },
          "metadata": {
            "tags": []
          },
          "execution_count": 7
        }
      ]
    },
    {
      "cell_type": "code",
      "metadata": {
        "id": "fQgSHkoQeDp1",
        "colab_type": "code",
        "colab": {}
      },
      "source": [
        "df['tags'] = df['variety'].map({tags[0]: 0, tags[1]: 1, tags[2]: 2})"
      ],
      "execution_count": 0,
      "outputs": []
    },
    {
      "cell_type": "code",
      "metadata": {
        "id": "rzoTszpjeKxY",
        "colab_type": "code",
        "colab": {}
      },
      "source": [
        "CORRECT_TAG = 0.0\n",
        "INCORRECT_TAG = -1.0\n",
        "\n",
        "def get_cost(context, index, df, action):\n",
        "    correct_tag = df.variety[index]\n",
        "    if(action == correct_tag):\n",
        "        return CORRECT_TAG\n",
        "    else:\n",
        "        return INCORRECT_TAG"
      ],
      "execution_count": 0,
      "outputs": []
    },
    {
      "cell_type": "code",
      "metadata": {
        "id": "U1ZCpha2eN6u",
        "colab_type": "code",
        "colab": {}
      },
      "source": [
        "def to_vw_example_format(context, actions, cb_label = None):\n",
        "    if cb_label is not None:\n",
        "        chosen_action, cost, prob = cb_label\n",
        "    example_string = \"\"\n",
        "    for action in actions:\n",
        "        if cb_label is not None and action == chosen_action:\n",
        "            # Overwriting the probability of taking some action to 1\n",
        "            # as in this dataset, we are not given probablities of actions\n",
        "            example_string += \"0:{}:{} \".format(cost, prob)\n",
        "        example_string += \"|Action flower={} \\n\".format(action)\n",
        "    #Strip the last newline\n",
        "    return example_string[:-1]"
      ],
      "execution_count": 0,
      "outputs": []
    },
    {
      "cell_type": "code",
      "metadata": {
        "id": "eJrTcKK5eSwB",
        "colab_type": "code",
        "colab": {}
      },
      "source": [
        "# To return the action with max confidence score\n",
        "def sample_custom_pmf(pmf):\n",
        "    total = sum(pmf)\n",
        "    scale = 1 / total\n",
        "    pmf = [x * scale for x in pmf]\n",
        "    draw = random.random()\n",
        "    sum_prob = 0.0\n",
        "    for index, prob in enumerate(pmf):\n",
        "        sum_prob += prob\n",
        "        if(sum_prob > draw):\n",
        "            return index, prob"
      ],
      "execution_count": 0,
      "outputs": []
    },
    {
      "cell_type": "code",
      "metadata": {
        "id": "ursYexQxeU7T",
        "colab_type": "code",
        "colab": {}
      },
      "source": [
        "def get_action(vw, context, actions):\n",
        "    vw_text_example = to_vw_example_format(context,actions)\n",
        "    pmf = vw.predict(vw_text_example)\n",
        "    chosen_action_index, prob = sample_custom_pmf(pmf)\n",
        "    return actions[chosen_action_index], prob"
      ],
      "execution_count": 0,
      "outputs": []
    },
    {
      "cell_type": "code",
      "metadata": {
        "id": "5fvQL2RgeYns",
        "colab_type": "code",
        "colab": {}
      },
      "source": [
        "actions = pd.unique(df['variety']) # ['Iris-setosa', 'Iris-versicolor', 'Iris-virginica']\n",
        "\n",
        "def run_simulation(vw, num_iterations, actions, df, do_learn = True):\n",
        "    cost_sum = 0.\n",
        "    ctr = []\n",
        "\n",
        "    for i in range(1, num_iterations+1):\n",
        "        i = i%148 + 1\n",
        "        # 3. Pass context to vw to get an action\n",
        "        context = {'SepalLength': df.SepalLength[i], 'SepalWidth': df.SepalWidth[i], \\\n",
        "                  'PetalLength': df.PetalLength[i], 'PetalWidth': df.PetalWidth[i]}\n",
        "        action, prob = get_action(vw, context, actions)\n",
        "        # 4. Get cost of the action we chose\n",
        "        cost = get_cost(context, i, df, action)\n",
        "        cost_sum += cost\n",
        "\n",
        "        if do_learn:\n",
        "            # 5. Inform VW of what happened so we can learn from it\n",
        "            # print(to_vw_example_format(context, actions, (action, cost, prob)))\n",
        "            vw_format = vw.parse(to_vw_example_format(context, actions, (action, cost, prob)),pyvw.vw.lContextualBandit)\n",
        "            # 6. Learn\n",
        "            vw.learn(vw_format)\n",
        "\n",
        "        # We negate this so that on the plot instead of minimizing cost, we are maximizing reward\n",
        "        ctr.append(-1*cost_sum/i)\n",
        "\n",
        "    return ctr"
      ],
      "execution_count": 0,
      "outputs": []
    },
    {
      "cell_type": "code",
      "metadata": {
        "id": "2YtFgoqcfLx5",
        "colab_type": "code",
        "colab": {}
      },
      "source": [
        "def plot_ctr(num_iterations, ctr):\n",
        "    plt.plot(range(1,num_iterations+1), ctr)\n",
        "    plt.xlabel('num_iterations', fontsize=14)\n",
        "    plt.ylabel('ctr', fontsize=14)\n",
        "    plt.ylim([0,1])"
      ],
      "execution_count": 0,
      "outputs": []
    },
    {
      "cell_type": "code",
      "metadata": {
        "id": "75DGzIGhfOKA",
        "colab_type": "code",
        "outputId": "fa4ed51d-7f8c-46a5-a8ee-81ce889ad5e1",
        "colab": {
          "base_uri": "https://localhost:8080/",
          "height": 287
        }
      },
      "source": [
        "# Instantiate learner in VW\n",
        "vw = pyvw.vw(\"--cb_explore_adf -q UA --epsilon 0.2\")\n",
        "\n",
        "num_iterations = 5000\n",
        "ctr = run_simulation(vw, num_iterations, actions, df)\n",
        "\n",
        "plot_ctr(num_iterations, ctr)"
      ],
      "execution_count": 0,
      "outputs": [
        {
          "output_type": "display_data",
          "data": {
            "image/png": "[encoded data removed]",
            "text/plain": [
              "<Figure size 432x288 with 1 Axes>"
            ]
          },
          "metadata": {
            "tags": []
          }
        }
      ]
    },
    {
      "cell_type": "code",
      "metadata": {
        "id": "crJewVAofQcl",
        "colab_type": "code",
        "colab": {}
      },
      "source": [
        ""
      ],
      "execution_count": 0,
      "outputs": []
    }
  ]
}