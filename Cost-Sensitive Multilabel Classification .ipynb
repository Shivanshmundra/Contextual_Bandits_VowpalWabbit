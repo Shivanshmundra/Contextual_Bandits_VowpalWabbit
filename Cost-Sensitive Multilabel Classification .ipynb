{
 "cells": [
  {
   "cell_type": "markdown",
   "metadata": {},
   "source": [
    "## What is multilabel classification?"
   ]
  },
  {
   "cell_type": "markdown",
   "metadata": {},
   "source": [
    "Imagine a paragraph from any article and one want to associate a tag to it for example `Science and Tech`, `crime`\n",
    "`Economics` etc. \n",
    "Now, one article can be assigned multilabels and each label is correct in some sense. We can also weight how each label is correct.\n",
    "\n",
    "This task of predicting most suitable label fall under multilabel classification task. "
   ]
  },
  {
   "cell_type": "markdown",
   "metadata": {},
   "source": [
    "### We are going to use Vowpal Wabbit Library because of it's online learning and high speed functionality"
   ]
  },
  {
   "cell_type": "code",
   "execution_count": 2,
   "metadata": {},
   "outputs": [],
   "source": [
    "from vowpalwabbit import pyvw\n",
    "import pandas as pd\n",
    "import numpy as np\n",
    "import matplotlib.pyplot as plt\n",
    "from sklearn.preprocessing import MultiLabelBinarizer\n",
    "import re\n",
    "import random"
   ]
  },
  {
   "cell_type": "markdown",
   "metadata": {},
   "source": [
    "We will use `BibTex` data for this specific task which has `159` tags available for each dataset."
   ]
  },
  {
   "cell_type": "markdown",
   "metadata": {},
   "source": [
    "Download BibTex data from http://manikvarma.org/downloads/XC/XMLRepository.html"
   ]
  },
  {
   "cell_type": "code",
   "execution_count": 5,
   "metadata": {},
   "outputs": [],
   "source": [
    "def parse_data(file_name):\n",
    "    features = list()\n",
    "    labels = list()\n",
    "    with open(file_name, 'rt') as f:\n",
    "        f.readline()\n",
    "        for l in f:\n",
    "            if bool(re.search(\"^[0-9]\", l)):\n",
    "                g = re.search(\"^(([0-9]{1,2},?)+)\\s(.*)$\", l)\n",
    "                labels.append([int(i) for i in g.group(1).split(\",\")])\n",
    "                features.append(eval(\"{\" + re.sub(\"\\s\", \",\", g.group(3)) + \"}\"))\n",
    "            else:\n",
    "                l = l.strip()\n",
    "                labels.append([])\n",
    "                features.append(eval(\"{\" + re.sub(\"\\s\", \",\", l) + \"}\"))\n",
    "#     features_ = pd.DataFrame.from_dict(features).fillna(0)\n",
    "    df = pd.DataFrame.from_dict(features).fillna(0)\n",
    "    mlb = MultiLabelBinarizer()\n",
    "    y = mlb.fit_transform(labels)\n",
    "    return df, y\n",
    "\n",
    "df, y = parse_data(\"data/Bibtex/Bibtex_data.txt\")"
   ]
  },
  {
   "cell_type": "markdown",
   "metadata": {},
   "source": [
    "In this data, there are total 159 possible labels with total data size of 7394. Total 1836 number of binary features are present in this data."
   ]
  },
  {
   "cell_type": "code",
   "execution_count": 7,
   "metadata": {},
   "outputs": [],
   "source": [
    "df_train, y_train = df[:-1000], y[:-1000]\n",
    "df_test, y_test = df[-1000:], y[-1000:]\n",
    "# splitting data manually into train and test split"
   ]
  },
  {
   "cell_type": "code",
   "execution_count": 8,
   "metadata": {},
   "outputs": [],
   "source": [
    "actions = np.arange(1, y.shape[1]+1, 1) # Number of actions/label you can choose for one data"
   ]
  },
  {
   "cell_type": "code",
   "execution_count": 9,
   "metadata": {},
   "outputs": [],
   "source": [
    "# Convert to Vowpal Wabbit Format\n",
    "def make_example(index):\n",
    "    example_string = \"\"\n",
    "    for i in range(y.shape[1]):\n",
    "        # cost for corresponding label(1-label)\n",
    "        example_string += str(i+1) + \":\" + str(1.0 - y[index][i]) + \" \"\n",
    "    return example_string[:-1]\n",
    "def make_example_(index):\n",
    "    example_string = \"\"\n",
    "    # features for corresponding example\n",
    "    for feature in np.array(np.where(df.iloc[index] == 1))[0]:\n",
    "        example_string += str(feature) + \":1 \"\n",
    "    return example_string[:-1]\n",
    "def make_example_vw(index):\n",
    "    return make_example(index) + \" | \" + make_example_(index)"
   ]
  },
  {
   "cell_type": "code",
   "execution_count": 10,
   "metadata": {},
   "outputs": [],
   "source": [
    "# Defining model to be learned\n",
    "model = pyvw.vw(\"--csoaa 159 -q UA\")\n",
    "# Here we are using csoaa, which means \"cost-sensitive one against all\"."
   ]
  },
  {
   "cell_type": "markdown",
   "metadata": {},
   "source": [
    "You can look more about Vowpal Wabbit input format and model information on [webpage](https://vowpalwabbit.org/tutorials.html)."
   ]
  },
  {
   "cell_type": "code",
   "execution_count": 11,
   "metadata": {},
   "outputs": [],
   "source": [
    "# Online Learning loop\n",
    "for i in range(df_train.shape[0]):\n",
    "    i = i%df_train.shape[0]\n",
    "    train_example = make_example_vw(i)\n",
    "    model.learn(train_example)"
   ]
  },
  {
   "cell_type": "code",
   "execution_count": 17,
   "metadata": {},
   "outputs": [],
   "source": [
    "def prediction_accuracy(model):\n",
    "    correct = 0\n",
    "    for i in range(df_train.shape[0], df.shape[0]): # here iterating over test examples\n",
    "        test_example = make_example_vw(i)\n",
    "        ans = model.predict(test_example)\n",
    "        if ans-1 in np.array(np.where(y[i] == 1))[0]:\n",
    "            # as model predict 1 indexing classes, for check ans -1\n",
    "            correct += 1\n",
    "    return correct/df_test.shape[0]*100"
   ]
  },
  {
   "cell_type": "code",
   "execution_count": 18,
   "metadata": {},
   "outputs": [
    {
     "data": {
      "text/plain": [
       "60.8"
      ]
     },
     "execution_count": 18,
     "metadata": {},
     "output_type": "execute_result"
    }
   ],
   "source": [
    "prediction_accuracy(model)"
   ]
  },
  {
   "cell_type": "markdown",
   "metadata": {},
   "source": [
    "That's decent accuracy considering we just iterated over every example once that too in online fashion. Also possible label for each example from 159 dimensional label space"
   ]
  },
  {
   "cell_type": "markdown",
   "metadata": {},
   "source": [
    "Let's save data in VW format for future easy use"
   ]
  },
  {
   "cell_type": "code",
   "execution_count": 19,
   "metadata": {},
   "outputs": [],
   "source": [
    "# saving data in VW format\n",
    "with open(\"data/bibtex_data.vw\", \"w\") as f:\n",
    "    for i in range(df.shape[0]):\n",
    "        train_example = make_example(i) + \" | \" + make_example_(i)\n",
    "        f.write(train_example)\n",
    "        f.write(\"\\n\")"
   ]
  },
  {
   "cell_type": "markdown",
   "metadata": {},
   "source": [
    "Now, let's try command line tool for proper diagnosis and see blazing speed for training.\n",
    "You need to install vowpalwabbit command line tool for following section."
   ]
  },
  {
   "cell_type": "code",
   "execution_count": 22,
   "metadata": {},
   "outputs": [
    {
     "name": "stdout",
     "output_type": "stream",
     "text": [
      "/bin/sh: 1: vw: not found\r\n"
     ]
    }
   ],
   "source": [
    "!~/vowpal_wabbit/build/vowpalwabbit/vw -d \"data/bibtex_data.vw\" --csoaa 159 -f model.vw"
   ]
  },
  {
   "cell_type": "code",
   "execution_count": 23,
   "metadata": {},
   "outputs": [
    {
     "name": "stdout",
     "output_type": "stream",
     "text": [
      "predictions = predictions.txt\n",
      "Num weight bits = 18\n",
      "learning rate = 0.5\n",
      "initial_t = 0\n",
      "power_t = 0.5\n",
      "using no cache\n",
      "Reading datafile = data/bibtex_data.vw\n",
      "num sources = 1\n",
      "average  since         example        example  current  current  current\n",
      "loss     last          counter         weight    label  predict features\n",
      "0.000000 0.000000            1            1.0    known       76       73\n",
      "0.000000 0.000000            2            2.0    known      132        7\n",
      "0.250000 0.500000            4            4.0    known       15       59\n",
      "0.125000 0.000000            8            8.0    known      130       46\n",
      "0.187500 0.250000           16           16.0    known       53       85\n",
      "0.093750 0.000000           32           32.0    known      157       90\n",
      "0.109375 0.125000           64           64.0    known       36       98\n",
      "0.117188 0.125000          128          128.0    known      123       18\n",
      "0.093750 0.070312          256          256.0    known      156       82\n",
      "0.115234 0.136719          512          512.0    known       99       14\n",
      "0.115234 0.115234         1024         1024.0    known      112       54\n",
      "0.123047 0.130859         2048         2048.0    known       53       72\n",
      "0.146973 0.170898         4096         4096.0    known       45       60\n",
      "\n",
      "finished run\n",
      "number of examples = 7394\n",
      "weighted example sum = 7394.000000\n",
      "weighted label sum = 0.000000\n",
      "average loss = 0.163376\n",
      "total feature number = 515048\n"
     ]
    }
   ],
   "source": [
    "!~/vowpal_wabbit/build/vowpalwabbit/vw -d data/bibtex_data.vw -i model.vw -p predictions.txt"
   ]
  },
  {
   "cell_type": "code",
   "execution_count": 25,
   "metadata": {},
   "outputs": [
    {
     "name": "stdout",
     "output_type": "stream",
     "text": [
      "76\r\n",
      "132\r\n",
      "27\r\n"
     ]
    }
   ],
   "source": [
    "!cat predictions.txt | head -n3"
   ]
  },
  {
   "cell_type": "markdown",
   "metadata": {},
   "source": [
    "## You can play with different arguments in command line mode\n",
    "Go to [this](https://github.com/VowpalWabbit/vowpal_wabbit/wiki/Command-line-arguments) for more help"
   ]
  },
  {
   "cell_type": "markdown",
   "metadata": {},
   "source": [
    "## Let us cbify this problem"
   ]
  },
  {
   "cell_type": "markdown",
   "metadata": {},
   "source": [
    "This is specific feature of Vowpal Wabbit which allow reductions on complex problem.\n",
    "To cbify any problem, we need cost for chosen action and probablities to chose an action.\n",
    "In Contextual Bandits, labels are represented by actions."
   ]
  },
  {
   "cell_type": "code",
   "execution_count": 37,
   "metadata": {},
   "outputs": [],
   "source": [
    "CORRECT_TAG = 0.0\n",
    "INCORRECT_TAG = -1.0\n",
    "\n",
    "def get_cost(cont_ind, action):\n",
    "    correct_tags = np.array(np.where(y[cont_ind] == 1)[0])\n",
    "    if(action in correct_tags):\n",
    "        return CORRECT_TAG\n",
    "    else:\n",
    "        return INCORRECT_TAG"
   ]
  },
  {
   "cell_type": "code",
   "execution_count": 38,
   "metadata": {},
   "outputs": [],
   "source": [
    "# To return the action with max confidence score\n",
    "def sample_custom_pmf(pmf):\n",
    "    total = sum(pmf)\n",
    "    scale = 1 / total\n",
    "    pmf = [x * scale for x in pmf]\n",
    "    draw = random.random()\n",
    "    sum_prob = 0.0\n",
    "    for index, prob in enumerate(pmf):\n",
    "        sum_prob += prob\n",
    "        if(sum_prob > draw):\n",
    "            return index, prob"
   ]
  },
  {
   "cell_type": "code",
   "execution_count": 39,
   "metadata": {},
   "outputs": [],
   "source": [
    "# Get action prediction from CB algorithm\n",
    "def get_action(vw, cont_ind, actions):\n",
    "    vw_text_example = make_example_vw(cont_ind)\n",
    "    pmf = vw.predict(vw_text_example)\n",
    "    chosen_action_index, prob = sample_custom_pmf(pmf)\n",
    "    return actions[chosen_action_index], prob"
   ]
  },
  {
   "cell_type": "code",
   "execution_count": 40,
   "metadata": {},
   "outputs": [],
   "source": [
    "# Convert to Vowpal Wabbit Format\n",
    "def cbmake_example(index, chosen_action, prob):\n",
    "    example_string = \"\"\n",
    "    for i in range(y.shape[1]):\n",
    "        if( (i+1) == chosen_action):\n",
    "            example_string += str(i+1) + \":\" + str(1.0 - y[index][i]) + \":\" + str(prob) + \" \"\n",
    "        else:\n",
    "            example_string += str(i+1) + \":\" + str(1.0 - y[index][i]) + \" \"\n",
    "    return example_string[:-1]\n",
    "def cbmake_example_(index):\n",
    "    example_string = \"\"\n",
    "    for feature in np.array(np.where(df.iloc[index] == 1))[0]:\n",
    "        example_string += str(feature) + \":1 \"\n",
    "    return example_string[:-1]\n",
    "def cbmake_example_vw(index, chosen_action, prob):\n",
    "    return cbmake_example(index, chosen_action, prob) + \" | \" + cbmake_example_(index)"
   ]
  },
  {
   "cell_type": "code",
   "execution_count": 41,
   "metadata": {},
   "outputs": [],
   "source": [
    "def to_vw_example_format(cont_ind, actions, cb_label=None):\n",
    "    if cb_label:\n",
    "        action, cost, prob = cb_label\n",
    "        return cbmake_example_vw(cont_ind, action, prob)\n",
    "        "
   ]
  },
  {
   "cell_type": "code",
   "execution_count": 42,
   "metadata": {},
   "outputs": [],
   "source": [
    "def run_simulation(vw, num_iterations, actions, df, do_learn = True):\n",
    "    cost_sum = 0.\n",
    "    ctr = []\n",
    "\n",
    "    for i in range(num_iterations):\n",
    "        \n",
    "        # 1. Pass context to vw to get an action\n",
    "        cont_ind = i\n",
    "        action, prob = get_action(vw, cont_ind, actions)\n",
    "        # 2. Get cost of the action we chose\n",
    "        cost = get_cost(cont_ind, action)\n",
    "        cost_sum += cost\n",
    "\n",
    "        if do_learn:\n",
    "            # 3. Inform VW of what happened so we can learn from it\n",
    "            vw_format = vw.parse(to_vw_example_format(cont_ind, actions, (action, cost, prob)),pyvw.vw.lContextualBandit)\n",
    "#             print(to_vw_example_format(cont_ind, actions, (action, cost, prob)))\n",
    "            vw.learn(vw_format)\n",
    "\n",
    "        # We negate this so that on the plot instead of minimizing cost, we are maximizing reward\n",
    "        ctr.append(-1*cost_sum/(i+1))\n",
    "\n",
    "    return ctr"
   ]
  },
  {
   "cell_type": "code",
   "execution_count": 43,
   "metadata": {},
   "outputs": [],
   "source": [
    "def plot_ctr(num_iterations, ctr):\n",
    "    plt.plot(range(1,num_iterations+1), ctr)\n",
    "    plt.xlabel('num_iterations', fontsize=14)\n",
    "    plt.ylabel('ctr', fontsize=14)\n",
    "    plt.ylim([0,1])"
   ]
  },
  {
   "cell_type": "code",
   "execution_count": 44,
   "metadata": {},
   "outputs": [
    {
     "data": {
      "image/png": "[encoded data removed]",
      "text/plain": [
       "<Figure size 432x288 with 1 Axes>"
      ]
     },
     "metadata": {},
     "output_type": "display_data"
    }
   ],
   "source": [
    "# Instantiate learner in VW\n",
    "vw = pyvw.vw(\"--cb_explore 159 --epsilon 0.2 --cb_type ips\")\n",
    "\n",
    "num_iterations = df.shape[0] - 1\n",
    "ctr = run_simulation(vw, num_iterations, actions, df)\n",
    "\n",
    "plot_ctr(num_iterations, ctr)"
   ]
  }
 ],
 "metadata": {
  "kernelspec": {
   "display_name": "Python 3.7.6 64-bit ('base': conda)",
   "language": "python",
   "name": "python37664bitbasecondae216400be78948018946a12046ff31a0"
  }
 },
 "nbformat": 4,
 "nbformat_minor": 2
}
