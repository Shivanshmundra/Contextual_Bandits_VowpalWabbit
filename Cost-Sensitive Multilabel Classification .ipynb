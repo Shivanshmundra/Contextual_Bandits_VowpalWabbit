{
 "cells": [
  {
   "cell_type": "markdown",
   "metadata": {},
   "source": [
    "## What is multilabel classification?"
   ]
  },
  {
   "cell_type": "markdown",
   "metadata": {},
   "source": [
    "Imagine a paragraph from any article and one want to associate a tag to it for example `Science and Tech`, `crime`\n",
    "`Economics` etc. \n",
    "Now, one article can be assigned multilabels and each label is correct in some sense. We can also weight how each label is correct.\n",
    "\n",
    "This task of predicting most suitable label fall under multilabel classification task. "
   ]
  },
  {
   "cell_type": "markdown",
   "metadata": {},
   "source": [
    "### We are going to use Vowpal Wabbit Library because of it's online learning and high speed functionality"
   ]
  },
  {
   "cell_type": "code",
   "execution_count": 1,
   "metadata": {},
   "outputs": [],
   "source": [
    "from vowpalwabbit import pyvw\n",
    "import pandas as pd\n",
    "import numpy as np\n",
    "import matplotlib.pyplot as plt\n",
    "from sklearn.preprocessing import MultiLabelBinarizer\n",
    "import re\n",
    "import random"
   ]
  },
  {
   "cell_type": "markdown",
   "metadata": {},
   "source": [
    "We will use `BibTex` data for this specific task which has `159` tags available for each dataset."
   ]
  },
  {
   "cell_type": "code",
   "execution_count": 2,
   "metadata": {},
   "outputs": [
    {
     "name": "stderr",
     "output_type": "stream",
     "text": [
      "/home/shivansh/anaconda3/envs/dl/lib/python3.7/site-packages/ipykernel_launcher.py:15: FutureWarning: Method .as_matrix will be removed in a future version. Use .values instead.\n",
      "  from ipykernel import kernelapp as app\n"
     ]
    }
   ],
   "source": [
    "def parse_data(file_name):\n",
    "    features = list()\n",
    "    labels = list()\n",
    "    with open(file_name, 'rt') as f:\n",
    "        f.readline()\n",
    "        for l in f:\n",
    "            if bool(re.search(\"^[0-9]\", l)):\n",
    "                g = re.search(\"^(([0-9]{1,2},?)+)\\s(.*)$\", l)\n",
    "                labels.append([int(i) for i in g.group(1).split(\",\")])\n",
    "                features.append(eval(\"{\" + re.sub(\"\\s\", \",\", g.group(3)) + \"}\"))\n",
    "            else:\n",
    "                l = l.strip()\n",
    "                labels.append([])\n",
    "                features.append(eval(\"{\" + re.sub(\"\\s\", \",\", l) + \"}\"))\n",
    "    features_ = pd.DataFrame.from_dict(features).fillna(0).as_matrix()\n",
    "    df = pd.DataFrame.from_dict(features).fillna(0)\n",
    "    mlb = MultiLabelBinarizer()\n",
    "    y = mlb.fit_transform(labels)\n",
    "    return features_, y, df\n",
    "\n",
    "X, y, df = parse_data(\"data/Bibtex/Bibtex_data.txt\")"
   ]
  },
  {
   "cell_type": "code",
   "execution_count": 3,
   "metadata": {},
   "outputs": [
    {
     "data": {
      "text/plain": [
       "((7394, 1836), (7394, 159))"
      ]
     },
     "execution_count": 3,
     "metadata": {},
     "output_type": "execute_result"
    }
   ],
   "source": [
    "df.shape, y.shape"
   ]
  },
  {
   "cell_type": "markdown",
   "metadata": {},
   "source": [
    "In this data, there are total 159 possible labels with total data size of 7394. Total 1836 number of binary features are present in this data."
   ]
  },
  {
   "cell_type": "code",
   "execution_count": 10,
   "metadata": {},
   "outputs": [],
   "source": [
    "actions = np.arange(1, y.shape[1]+1, 1) # Number of actions/label you can choose for one data"
   ]
  },
  {
   "cell_type": "code",
   "execution_count": 8,
   "metadata": {},
   "outputs": [],
   "source": [
    "# Convert to Vowpal Wabbit Format\n",
    "def make_example(index):\n",
    "    example_string = \"\"\n",
    "    for i in range(159):\n",
    "        example_string += str(i+1) + \":\" + str(1.0 - y[index][i]) + \" \"\n",
    "    return example_string[:-1]\n",
    "def make_example_(index):\n",
    "    example_string = \"\"\n",
    "    for feature in np.array(np.where(df.iloc[index] == 1))[0]:\n",
    "        example_string += str(feature) + \":1 \"\n",
    "    return example_string[:-1]\n",
    "def make_example_vw(index):\n",
    "    return make_example(index) + \" | \" + make_example_(index)"
   ]
  },
  {
   "cell_type": "code",
   "execution_count": 26,
   "metadata": {},
   "outputs": [],
   "source": [
    "# Defining model to be learned\n",
    "model = pyvw.vw(\"--csoaa 159 -q UA\")\n",
    "# Here we are using csoaa, which means \"cost-sensitive one against all\"."
   ]
  },
  {
   "cell_type": "markdown",
   "metadata": {},
   "source": [
    "You can look more about Vowpal Wabbit input format and model information on [webpage](https://vowpalwabbit.org/tutorials.html)."
   ]
  },
  {
   "cell_type": "code",
   "execution_count": 27,
   "metadata": {},
   "outputs": [],
   "source": [
    "# Online Learning loop\n",
    "for i in range(df.shape[0]*2):\n",
    "    i = i%df.shape[0]\n",
    "    train_example = make_example_vw(i)\n",
    "    model.learn(train_example)"
   ]
  },
  {
   "cell_type": "code",
   "execution_count": 34,
   "metadata": {},
   "outputs": [
    {
     "data": {
      "text/plain": [
       "135"
      ]
     },
     "execution_count": 34,
     "metadata": {},
     "output_type": "execute_result"
    }
   ],
   "source": [
    "model.predict(make_example_vw(18))"
   ]
  },
  {
   "cell_type": "code",
   "execution_count": 35,
   "metadata": {},
   "outputs": [
    {
     "data": {
      "text/plain": [
       "(array([108, 134, 148]),)"
      ]
     },
     "execution_count": 35,
     "metadata": {},
     "output_type": "execute_result"
    }
   ],
   "source": [
    "np.where(y[18] == 1)"
   ]
  },
  {
   "cell_type": "markdown",
   "metadata": {},
   "source": [
    "Now, let's try command line tool for proper diagnosis"
   ]
  },
  {
   "cell_type": "code",
   "execution_count": 38,
   "metadata": {},
   "outputs": [],
   "source": [
    "# saving data in VW format\n",
    "with open(\"data/bibtex_data.vw\", \"w\") as f:\n",
    "    for i in range(df.shape[0]):\n",
    "        train_example = make_example(i) + \" | \" + make_example_(i)\n",
    "        f.write(train_example)\n",
    "        f.write(\"\\n\")"
   ]
  },
  {
   "cell_type": "code",
   "execution_count": 65,
   "metadata": {},
   "outputs": [
    {
     "name": "stdout",
     "output_type": "stream",
     "text": [
      "Num weight bits = 18\n",
      "learning rate = 0.5\n",
      "initial_t = 0\n",
      "power_t = 0.5\n",
      "using no cache\n",
      "Reading datafile = data/bibtex_data.vw\n",
      "num sources = 1\n",
      "average  since         example        example  current  current  current\n",
      "loss     last          counter         weight    label  predict features\n",
      "1.000000 1.000000            1            1.0    known        1       73\n",
      "1.000000 1.000000            2            2.0    known       76        7\n",
      "1.000000 1.000000            4            4.0    known      132       59\n",
      "1.000000 1.000000            8            8.0    known       19       46\n",
      "1.000000 1.000000           16           16.0    known       19       85\n",
      "0.968750 0.937500           32           32.0    known       48       90\n",
      "0.906250 0.843750           64           64.0    known       45       98\n",
      "0.851562 0.796875          128          128.0    known      123       18\n",
      "0.769531 0.687500          256          256.0    known       76       82\n",
      "0.687500 0.605469          512          512.0    known       89       14\n",
      "0.628906 0.570312         1024         1024.0    known       76       54\n",
      "0.543457 0.458008         2048         2048.0    known       53       72\n",
      "0.488281 0.433105         4096         4096.0    known       45       60\n",
      "\n",
      "finished run\n",
      "number of examples = 7394\n",
      "weighted example sum = 7394.000000\n",
      "weighted label sum = 0.000000\n",
      "average loss = 0.448877\n",
      "total feature number = 515048\n"
     ]
    }
   ],
   "source": [
    "!~/vowpal_wabbit/build/vowpalwabbit/vw -d \"data/bibtex_data.vw\" --csoaa 159"
   ]
  },
  {
   "cell_type": "markdown",
   "metadata": {},
   "source": [
    "## You can play with different arguments in command line mode\n",
    "Go to [this](https://github.com/VowpalWabbit/vowpal_wabbit/wiki/Command-line-arguments) for more help"
   ]
  },
  {
   "cell_type": "markdown",
   "metadata": {},
   "source": [
    "## Let us cbify this problem"
   ]
  },
  {
   "cell_type": "markdown",
   "metadata": {},
   "source": [
    "This is specific feature of Vowpal Wabbit which allow reductions on complex problem.\n",
    "To cbify any problem, we need cost for chosen action and probablities to chose an action.\n",
    "In Contextual Bandits, labels are represented by actions."
   ]
  },
  {
   "cell_type": "code",
   "execution_count": 76,
   "metadata": {},
   "outputs": [],
   "source": [
    "CORRECT_TAG = 0.0\n",
    "INCORRECT_TAG = -1.0\n",
    "\n",
    "def get_cost(cont_ind, action):\n",
    "    correct_tags = np.array(np.where(y[cont_ind] == 1)[0])\n",
    "    if(action in correct_tags):\n",
    "        return CORRECT_TAG\n",
    "    else:\n",
    "        return INCORRECT_TAG"
   ]
  },
  {
   "cell_type": "code",
   "execution_count": 77,
   "metadata": {},
   "outputs": [],
   "source": [
    "# To return the action with max confidence score\n",
    "def sample_custom_pmf(pmf):\n",
    "    total = sum(pmf)\n",
    "    scale = 1 / total\n",
    "    pmf = [x * scale for x in pmf]\n",
    "    draw = random.random()\n",
    "    sum_prob = 0.0\n",
    "    for index, prob in enumerate(pmf):\n",
    "        sum_prob += prob\n",
    "        if(sum_prob > draw):\n",
    "            return index, prob"
   ]
  },
  {
   "cell_type": "code",
   "execution_count": 107,
   "metadata": {},
   "outputs": [],
   "source": [
    "# Get action prediction from CB algorithm\n",
    "def get_action(vw, cont_ind, actions):\n",
    "    vw_text_example = make_example_vw(cont_ind) # Just taking features into account for prediction\n",
    "    pmf = vw.predict(vw_text_example)\n",
    "    chosen_action_index, prob = sample_custom_pmf(pmf)\n",
    "    return actions[chosen_action_index], prob"
   ]
  },
  {
   "cell_type": "code",
   "execution_count": 108,
   "metadata": {},
   "outputs": [],
   "source": [
    "# Convert to Vowpal Wabbit Format\n",
    "def cbmake_example(index, chosen_action, prob):\n",
    "    example_string = \"\"\n",
    "    for i in range(159):\n",
    "        if( (i+1) == chosen_action):\n",
    "            example_string += str(i+1) + \":\" + str(1.0 - y[index][i]) + \":\" + str(prob) + \" \"\n",
    "        else:\n",
    "            example_string += str(i+1) + \":\" + str(1.0 - y[index][i]) + \" \"\n",
    "    return example_string[:-1]\n",
    "def cbmake_example_(index):\n",
    "    example_string = \"\"\n",
    "    for feature in np.array(np.where(df.iloc[index] == 1))[0]:\n",
    "        example_string += str(feature) + \":1 \"\n",
    "    return example_string[:-1]\n",
    "def cbmake_example_vw(index, chosen_action, prob):\n",
    "    return cbmake_example(index, chosen_action, prob) + \" | \" + cbmake_example_(index)"
   ]
  },
  {
   "cell_type": "code",
   "execution_count": 109,
   "metadata": {},
   "outputs": [],
   "source": [
    "def to_vw_example_format(cont_ind, actions, cb_label=None):\n",
    "    if cb_label:\n",
    "        action, cost, prob = cb_label\n",
    "        return cbmake_example_vw(cont_ind, action, prob)\n",
    "        "
   ]
  },
  {
   "cell_type": "code",
   "execution_count": 110,
   "metadata": {},
   "outputs": [],
   "source": [
    "def run_simulation(vw, num_iterations, actions, df, do_learn = True):\n",
    "    cost_sum = 0.\n",
    "    ctr = []\n",
    "\n",
    "    for i in range(num_iterations):\n",
    "        \n",
    "        # 1. Pass context to vw to get an action\n",
    "        cont_ind = i\n",
    "        action, prob = get_action(vw, cont_ind, actions)\n",
    "        # 2. Get cost of the action we chose\n",
    "        cost = get_cost(cont_ind, action)\n",
    "        cost_sum += cost\n",
    "\n",
    "        if do_learn:\n",
    "            # 3. Inform VW of what happened so we can learn from it\n",
    "            vw_format = vw.parse(to_vw_example_format(cont_ind, actions, (action, cost, prob)),pyvw.vw.lContextualBandit)\n",
    "#             print(to_vw_example_format(cont_ind, actions, (action, cost, prob)))\n",
    "            vw.learn(vw_format)\n",
    "\n",
    "        # We negate this so that on the plot instead of minimizing cost, we are maximizing reward\n",
    "        ctr.append(-1*cost_sum/(i+1))\n",
    "\n",
    "    return ctr"
   ]
  },
  {
   "cell_type": "code",
   "execution_count": 111,
   "metadata": {},
   "outputs": [],
   "source": [
    "def plot_ctr(num_iterations, ctr):\n",
    "    plt.plot(range(1,num_iterations+1), ctr)\n",
    "    plt.xlabel('num_iterations', fontsize=14)\n",
    "    plt.ylabel('ctr', fontsize=14)\n",
    "    plt.ylim([0,1])"
   ]
  },
  {
   "cell_type": "code",
   "execution_count": 116,
   "metadata": {},
   "outputs": [
    {
     "data": {
      "image/png": "[encoded data removed]",
      "text/plain": [
       "<Figure size 432x288 with 1 Axes>"
      ]
     },
     "metadata": {
      "needs_background": "light"
     },
     "output_type": "display_data"
    }
   ],
   "source": [
    "# Instantiate learner in VW\n",
    "vw = pyvw.vw(\"--cb_explore 159 --epsilon 0.2 --cb_type ips\")\n",
    "\n",
    "num_iterations = df.shape[0] - 1\n",
    "ctr = run_simulation(vw, num_iterations, actions, df)\n",
    "\n",
    "plot_ctr(num_iterations, ctr)"
   ]
  }
 ],
 "metadata": {
  "kernelspec": {
   "display_name": "Python 3",
   "language": "python",
   "name": "python3"
  },
  "language_info": {
   "codemirror_mode": {
    "name": "ipython",
    "version": 3
   },
   "file_extension": ".py",
   "mimetype": "text/x-python",
   "name": "python",
   "nbconvert_exporter": "python",
   "pygments_lexer": "ipython3",
   "version": "3.7.4"
  }
 },
 "nbformat": 4,
 "nbformat_minor": 2
}
